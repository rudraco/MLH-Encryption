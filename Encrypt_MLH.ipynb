{
  "nbformat": 4,
  "nbformat_minor": 0,
  "metadata": {
    "colab": {
      "name": "Encrypt-MLH.ipynb",
      "provenance": [],
      "collapsed_sections": [],
      "authorship_tag": "ABX9TyNAhxx6Hj+lm+d53m95Ncb1",
      "include_colab_link": true
    },
    "kernelspec": {
      "name": "python3",
      "display_name": "Python 3"
    }
  },
  "cells": [
    {
      "cell_type": "markdown",
      "metadata": {
        "id": "view-in-github",
        "colab_type": "text"
      },
      "source": [
        "<a href=\"https://colab.research.google.com/github/rudraco/MLH-Encryption/blob/master/Encrypt_MLH.ipynb\" target=\"_parent\"><img src=\"https://colab.research.google.com/assets/colab-badge.svg\" alt=\"Open In Colab\"/></a>"
      ]
    },
    {
      "cell_type": "code",
      "metadata": {
        "colab": {
          "base_uri": "https://localhost:8080/"
        },
        "id": "jZQbsAnujNJB",
        "outputId": "d42fc726-d41d-4df8-a9a1-08117b7f3623"
      },
      "source": [
        "!pip install pycrypto"
      ],
      "execution_count": 1,
      "outputs": [
        {
          "output_type": "stream",
          "text": [
            "Collecting pycrypto\n",
            "\u001b[?25l  Downloading https://files.pythonhosted.org/packages/60/db/645aa9af249f059cc3a368b118de33889219e0362141e75d4eaf6f80f163/pycrypto-2.6.1.tar.gz (446kB)\n",
            "\r\u001b[K     |▊                               | 10kB 17.6MB/s eta 0:00:01\r\u001b[K     |█▌                              | 20kB 20.1MB/s eta 0:00:01\r\u001b[K     |██▏                             | 30kB 12.5MB/s eta 0:00:01\r\u001b[K     |███                             | 40kB 9.6MB/s eta 0:00:01\r\u001b[K     |███▊                            | 51kB 8.6MB/s eta 0:00:01\r\u001b[K     |████▍                           | 61kB 8.7MB/s eta 0:00:01\r\u001b[K     |█████▏                          | 71kB 8.5MB/s eta 0:00:01\r\u001b[K     |█████▉                          | 81kB 8.5MB/s eta 0:00:01\r\u001b[K     |██████▋                         | 92kB 8.4MB/s eta 0:00:01\r\u001b[K     |███████▍                        | 102kB 8.0MB/s eta 0:00:01\r\u001b[K     |████████                        | 112kB 8.0MB/s eta 0:00:01\r\u001b[K     |████████▉                       | 122kB 8.0MB/s eta 0:00:01\r\u001b[K     |█████████▌                      | 133kB 8.0MB/s eta 0:00:01\r\u001b[K     |██████████▎                     | 143kB 8.0MB/s eta 0:00:01\r\u001b[K     |███████████                     | 153kB 8.0MB/s eta 0:00:01\r\u001b[K     |███████████▊                    | 163kB 8.0MB/s eta 0:00:01\r\u001b[K     |████████████▌                   | 174kB 8.0MB/s eta 0:00:01\r\u001b[K     |█████████████▏                  | 184kB 8.0MB/s eta 0:00:01\r\u001b[K     |██████████████                  | 194kB 8.0MB/s eta 0:00:01\r\u001b[K     |██████████████▊                 | 204kB 8.0MB/s eta 0:00:01\r\u001b[K     |███████████████▍                | 215kB 8.0MB/s eta 0:00:01\r\u001b[K     |████████████████▏               | 225kB 8.0MB/s eta 0:00:01\r\u001b[K     |█████████████████               | 235kB 8.0MB/s eta 0:00:01\r\u001b[K     |█████████████████▋              | 245kB 8.0MB/s eta 0:00:01\r\u001b[K     |██████████████████▍             | 256kB 8.0MB/s eta 0:00:01\r\u001b[K     |███████████████████             | 266kB 8.0MB/s eta 0:00:01\r\u001b[K     |███████████████████▉            | 276kB 8.0MB/s eta 0:00:01\r\u001b[K     |████████████████████▋           | 286kB 8.0MB/s eta 0:00:01\r\u001b[K     |█████████████████████▎          | 296kB 8.0MB/s eta 0:00:01\r\u001b[K     |██████████████████████          | 307kB 8.0MB/s eta 0:00:01\r\u001b[K     |██████████████████████▊         | 317kB 8.0MB/s eta 0:00:01\r\u001b[K     |███████████████████████▌        | 327kB 8.0MB/s eta 0:00:01\r\u001b[K     |████████████████████████▎       | 337kB 8.0MB/s eta 0:00:01\r\u001b[K     |█████████████████████████       | 348kB 8.0MB/s eta 0:00:01\r\u001b[K     |█████████████████████████▊      | 358kB 8.0MB/s eta 0:00:01\r\u001b[K     |██████████████████████████▍     | 368kB 8.0MB/s eta 0:00:01\r\u001b[K     |███████████████████████████▏    | 378kB 8.0MB/s eta 0:00:01\r\u001b[K     |████████████████████████████    | 389kB 8.0MB/s eta 0:00:01\r\u001b[K     |████████████████████████████▋   | 399kB 8.0MB/s eta 0:00:01\r\u001b[K     |█████████████████████████████▍  | 409kB 8.0MB/s eta 0:00:01\r\u001b[K     |██████████████████████████████  | 419kB 8.0MB/s eta 0:00:01\r\u001b[K     |██████████████████████████████▉ | 430kB 8.0MB/s eta 0:00:01\r\u001b[K     |███████████████████████████████▋| 440kB 8.0MB/s eta 0:00:01\r\u001b[K     |████████████████████████████████| 450kB 8.0MB/s \n",
            "\u001b[?25hBuilding wheels for collected packages: pycrypto\n",
            "  Building wheel for pycrypto (setup.py) ... \u001b[?25l\u001b[?25hdone\n",
            "  Created wheel for pycrypto: filename=pycrypto-2.6.1-cp36-cp36m-linux_x86_64.whl size=499939 sha256=2263347eb95139a0863469da0ae5a4e8938303c0d53344ae8ea99585f24aac49\n",
            "  Stored in directory: /root/.cache/pip/wheels/27/02/5e/77a69d0c16bb63c6ed32f5386f33a2809c94bd5414a2f6c196\n",
            "Successfully built pycrypto\n",
            "Installing collected packages: pycrypto\n",
            "Successfully installed pycrypto-2.6.1\n"
          ],
          "name": "stdout"
        }
      ]
    },
    {
      "cell_type": "code",
      "metadata": {
        "colab": {
          "base_uri": "https://localhost:8080/"
        },
        "id": "xO2fvP1cjQSm",
        "outputId": "126fa813-1573-4530-f28f-e9f424cc675a"
      },
      "source": [
        "from Crypto.Cipher import AES\n",
        "from os import urandom\n",
        "\n",
        "key = urandom(32) #random 32-bit encryption key is generated\n",
        "iv = urandom(16) #iv stands for initialization vector\n",
        "# initialization vector is to produce different encrypted data so that an attacker cannot use cryptanalysis to infer key data or message data.\n",
        "print(key,iv)"
      ],
      "execution_count": 9,
      "outputs": [
        {
          "output_type": "stream",
          "text": [
            "b'\\xfd\\xc3\\x98\\x18\\x033.\\x16\\xa4\\xc2u\\xa2F\\xb6\\xc9\\x83\\x8fl\\xe2\\x99v\\xb2\\x93W\\x17\\xeb[\\x84\\xf6\\xac\\xa0\\xab' b'\\xb6\\x0f9v\\xad\\x8aA\\xbcc\\x8e\\x92ER\\xe5\\x82\\xd2'\n"
          ],
          "name": "stdout"
        }
      ]
    },
    {
      "cell_type": "code",
      "metadata": {
        "colab": {
          "base_uri": "https://localhost:8080/"
        },
        "id": "U4yP9SM5jdZs",
        "outputId": "8ee214be-aefb-4342-abf3-fcb2ff3ff9bc"
      },
      "source": [
        "############################# ENCRYPTION #######################################\n",
        "password = \"The is for MLH - Local Hack Day \" #message to be encrypted\n",
        "encrypterObj = AES.new(key, AES.MODE_ECB, iv) # new obj is being created \n",
        "# AES stands for Advanced Encryption Standard is a symmetric type encryption which mean same key for encryption and decryption\n",
        "encryptedText = encrypterObj.encrypt(password)\n",
        "\n",
        "print('Encrypted Password : ',encryptedText)"
      ],
      "execution_count": 12,
      "outputs": [
        {
          "output_type": "stream",
          "text": [
            "Encrypted Password :  b\"\\x14`\\xf7\\xdc,\\r1\\xcb\\x16\\xae\\x80\\x98j\\xf4\\xf5]TlB\\x80<\\xc6g'\\x1d\\xfc\\x0b\\xbdU\\x9c\\x10\\xe6\"\n"
          ],
          "name": "stdout"
        }
      ]
    },
    {
      "cell_type": "code",
      "metadata": {
        "colab": {
          "base_uri": "https://localhost:8080/"
        },
        "id": "6smwPxbgjeMS",
        "outputId": "1e0aa435-4efd-4e84-9aa7-36abe428c01a"
      },
      "source": [
        "############################# DECRYPTION #######################################\n",
        "decrypterObj = AES.new(key, AES.MODE_ECB, iv)\n",
        "decryptedText = decrypterObj.decrypt(encryptedText)\n",
        "passwordRecived = decryptedText.decode('UTF-8')\n",
        "print('Decrypted message : ',messageRecived)"
      ],
      "execution_count": 13,
      "outputs": [
        {
          "output_type": "stream",
          "text": [
            "Decrypted message :  The is for MLH - Local Hack Day \n"
          ],
          "name": "stdout"
        }
      ]
    },
    {
      "cell_type": "code",
      "metadata": {
        "colab": {
          "base_uri": "https://localhost:8080/"
        },
        "id": "xKl3d493jjuh",
        "outputId": "5060de6c-533c-4c91-f928-09dc2b4b770d"
      },
      "source": [
        "if (password == passwordRecived):\n",
        "  print('Password Encrypted and Decrypted Successfully')"
      ],
      "execution_count": 15,
      "outputs": [
        {
          "output_type": "stream",
          "text": [
            "Password Encrypted and Decrypted Successfully\n"
          ],
          "name": "stdout"
        }
      ]
    },
    {
      "cell_type": "code",
      "metadata": {
        "id": "75PYuuF9mA_T"
      },
      "source": [
        ""
      ],
      "execution_count": null,
      "outputs": []
    }
  ]
}